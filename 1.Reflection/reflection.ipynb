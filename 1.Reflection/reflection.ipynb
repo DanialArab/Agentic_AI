{
 "cells": [
  {
   "cell_type": "markdown",
   "id": "5b5782cc",
   "metadata": {},
   "source": [
    "### Reflection pattrn to improve code for data visualization"
   ]
  },
  {
   "cell_type": "code",
   "execution_count": 5,
   "id": "3b1c5db1",
   "metadata": {},
   "outputs": [
    {
     "ename": "ModuleNotFoundError",
     "evalue": "No module named 'anthropic'",
     "output_type": "error",
     "traceback": [
      "\u001b[31m---------------------------------------------------------------------------\u001b[39m",
      "\u001b[31mModuleNotFoundError\u001b[39m                       Traceback (most recent call last)",
      "\u001b[36mCell\u001b[39m\u001b[36m \u001b[39m\u001b[32mIn[5]\u001b[39m\u001b[32m, line 7\u001b[39m\n\u001b[32m      4\u001b[39m \u001b[38;5;28;01mimport\u001b[39;00m\u001b[38;5;250m \u001b[39m\u001b[34;01mjson\u001b[39;00m\n\u001b[32m      6\u001b[39m \u001b[38;5;66;03m# Local helper module\u001b[39;00m\n\u001b[32m----> \u001b[39m\u001b[32m7\u001b[39m \u001b[38;5;28;01mimport\u001b[39;00m\u001b[38;5;250m \u001b[39m\u001b[34;01mutils\u001b[39;00m\n",
      "\u001b[36mFile \u001b[39m\u001b[32mc:\\Users\\danial.arab\\Desktop\\Agentic_AI\\1.Reflection\\utils.py:15\u001b[39m\n\u001b[32m     13\u001b[39m \u001b[38;5;28;01mfrom\u001b[39;00m\u001b[38;5;250m \u001b[39m\u001b[34;01mdotenv\u001b[39;00m\u001b[38;5;250m \u001b[39m\u001b[38;5;28;01mimport\u001b[39;00m load_dotenv\n\u001b[32m     14\u001b[39m \u001b[38;5;28;01mfrom\u001b[39;00m\u001b[38;5;250m \u001b[39m\u001b[34;01mopenai\u001b[39;00m\u001b[38;5;250m \u001b[39m\u001b[38;5;28;01mimport\u001b[39;00m OpenAI\n\u001b[32m---> \u001b[39m\u001b[32m15\u001b[39m \u001b[38;5;28;01mfrom\u001b[39;00m\u001b[38;5;250m \u001b[39m\u001b[34;01manthropic\u001b[39;00m\u001b[38;5;250m \u001b[39m\u001b[38;5;28;01mimport\u001b[39;00m Anthropic\n\u001b[32m     16\u001b[39m \u001b[38;5;28;01mfrom\u001b[39;00m\u001b[38;5;250m \u001b[39m\u001b[34;01mhtml\u001b[39;00m\u001b[38;5;250m \u001b[39m\u001b[38;5;28;01mimport\u001b[39;00m escape\n\u001b[32m     18\u001b[39m \u001b[38;5;66;03m# === Env & Clients ===\u001b[39;00m\n",
      "\u001b[31mModuleNotFoundError\u001b[39m: No module named 'anthropic'"
     ]
    }
   ],
   "source": [
    "import pandas as pd\n",
    "# Standard library imports\n",
    "import re\n",
    "import json\n",
    "\n",
    "# Local helper module\n",
    "import utils"
   ]
  },
  {
   "cell_type": "markdown",
   "id": "88ea7cfe",
   "metadata": {},
   "source": [
    "### Loading the data"
   ]
  },
  {
   "cell_type": "code",
   "execution_count": null,
   "id": "7d237d83",
   "metadata": {},
   "outputs": [],
   "source": [
    "# Use this utils.py function to load the data into a dataframe\n",
    "df = utils.load_and_prepare_data('coffee_sales.csv')\n",
    "\n",
    "# Grab a random sample to display\n",
    "utils.print_html(df.sample(n=5), title=\"Random Sample of Coffee Sales Data\")"
   ]
  },
  {
   "cell_type": "markdown",
   "id": "26f6528f",
   "metadata": {},
   "source": [
    "### Building the pipeline\n",
    "\n"
   ]
  },
  {
   "cell_type": "markdown",
   "id": "8c4210a2",
   "metadata": {},
   "source": [
    "#### 1. Generate code to create chart V1"
   ]
  },
  {
   "cell_type": "code",
   "execution_count": 6,
   "id": "854b3731",
   "metadata": {},
   "outputs": [],
   "source": [
    "def generate_chart_code(instruction: str, model: str, out_path_v1: str) -> str:\n",
    "    \"\"\"Generate Python code to make a plot with matplotlib using tag-based wrapping.\"\"\"\n",
    "\n",
    "    prompt = f\"\"\"\n",
    "    You are a data visualization expert.\n",
    "\n",
    "    Return your answer *strictly* in this format:\n",
    "\n",
    "    <execute_python>\n",
    "    # valid python code here\n",
    "    </execute_python>\n",
    "\n",
    "    Do not add explanations, only the tags and the code.\n",
    "\n",
    "    The code should create a visualization from a DataFrame 'df' with these columns:\n",
    "    - date (M/D/YY)\n",
    "    - time (HH:MM)\n",
    "    - cash_type (card or cash)\n",
    "    - card (string)\n",
    "    - price (number)\n",
    "    - coffee_name (string)\n",
    "    - quarter (1-4)\n",
    "    - month (1-12)\n",
    "    - year (YYYY)\n",
    "\n",
    "    User instruction: {instruction}\n",
    "\n",
    "    Requirements for the code:\n",
    "    1. Assume the DataFrame is already loaded as 'df'.\n",
    "    2. Use matplotlib for plotting.\n",
    "    3. Add clear title, axis labels, and legend if needed.\n",
    "    4. Save the figure as '{out_path_v1}' with dpi=300.\n",
    "    5. Do not call plt.show().\n",
    "    6. Close all plots with plt.close().\n",
    "    7. Add all necessary import python statements\n",
    "\n",
    "    Return ONLY the code wrapped in <execute_python> tags.\n",
    "    \"\"\"\n",
    "\n",
    "    response = utils.get_response(model, prompt)\n",
    "    return response"
   ]
  },
  {
   "cell_type": "code",
   "execution_count": null,
   "id": "5c9da79b",
   "metadata": {},
   "outputs": [],
   "source": [
    "# Generate initial code\n",
    "code_v1 = generate_chart_code(\n",
    "    instruction=\"Create a plot comparing Q1 coffee sales in 2024 and 2025 using the data in coffee_sales.csv.\", \n",
    "    model=\"gpt-4o-mini\", \n",
    "    out_path_v1=\"chart_v1.png\"\n",
    ")\n",
    "\n",
    "utils.print_html(code_v1, title=\"LLM output with first draft code\")"
   ]
  },
  {
   "cell_type": "markdown",
   "id": "0ac14f2a",
   "metadata": {},
   "source": [
    "#### 2. Execute code and create chart"
   ]
  },
  {
   "cell_type": "code",
   "execution_count": null,
   "id": "7bc50c30",
   "metadata": {},
   "outputs": [],
   "source": [
    "# Get the code within the <execute_python> tags\n",
    "match = re.search(r\"<execute_python>([\\s\\S]*?)</execute_python>\", code_v1)\n",
    "if match:\n",
    "    initial_code = match.group(1).strip()\n",
    "    utils.print_html(initial_code, title=\"Extracted Code to Execute\")\n",
    "    exec_globals = {\"df\": df}\n",
    "    exec(initial_code, exec_globals)\n",
    "\n",
    "# If code run successfully, the file chart_v1.png should have been generated\n",
    "utils.print_html(\n",
    "    content=\"chart_v1.png\",\n",
    "    title=\"Generated Chart (V1)\",\n",
    "    is_image=True\n",
    ")"
   ]
  },
  {
   "cell_type": "markdown",
   "id": "cc02864f",
   "metadata": {},
   "source": [
    "#### 3. Reflect on the output"
   ]
  },
  {
   "cell_type": "code",
   "execution_count": null,
   "id": "8f6226b8",
   "metadata": {},
   "outputs": [],
   "source": [
    "def reflect_on_image_and_regenerate(\n",
    "    chart_path: str,\n",
    "    instruction: str,\n",
    "    model_name: str,\n",
    "    out_path_v2: str,\n",
    "    code_v1: str,  \n",
    ") -> tuple[str, str]:\n",
    "    \"\"\"\n",
    "    Critique the chart IMAGE and the original code against the instruction, \n",
    "    then return refined matplotlib code.\n",
    "    Returns (feedback, refined_code_with_tags).\n",
    "    Supports OpenAI and Anthropic (Claude).\n",
    "    \"\"\"\n",
    "    media_type, b64 = utils.encode_image_b64(chart_path)\n",
    "    \n",
    "\n",
    "    prompt = f\"\"\"\n",
    "    You are a data visualization expert.\n",
    "    Your task: critique the attached chart and the original code against the given instruction,\n",
    "    then return improved matplotlib code.\n",
    "\n",
    "    Original code (for context):\n",
    "    {code_v1}\n",
    "\n",
    "    OUTPUT FORMAT (STRICT):\n",
    "    1) First line: a valid JSON object with ONLY the \"feedback\" field.\n",
    "    Example: {{\"feedback\": \"The legend is unclear and the axis labels overlap.\"}}\n",
    "\n",
    "    2) After a newline, output ONLY the refined Python code wrapped in:\n",
    "    <execute_python>\n",
    "    ...\n",
    "    </execute_python>\n",
    "\n",
    "    3) Import all necessary libraries in the code. Don't assume any imports from the original code.\n",
    "\n",
    "    HARD CONSTRAINTS:\n",
    "    - Do NOT include Markdown, backticks, or any extra prose outside the two parts above.\n",
    "    - Use pandas/matplotlib only (no seaborn).\n",
    "    - Assume df already exists; do not read from files.\n",
    "    - Save to '{out_path_v2}' with dpi=300.\n",
    "    - Always call plt.close() at the end (no plt.show()).\n",
    "    - Include all necessary import statements.\n",
    "\n",
    "    Schema (columns available in df):\n",
    "    - date (M/D/YY)\n",
    "    - time (HH:MM)\n",
    "    - cash_type (card or cash)\n",
    "    - card (string)\n",
    "    - price (number)\n",
    "    - coffee_name (string)\n",
    "    - quarter (1-4)\n",
    "    - month (1-12)\n",
    "    - year (YYYY)\n",
    "\n",
    "    Instruction:\n",
    "    {instruction}\n",
    "    \"\"\"\n",
    "\n",
    "\n",
    "    # In case the name is \"Claude\" or \"Anthropic\", use the safe helper\n",
    "    lower = model_name.lower()\n",
    "    if \"claude\" in lower or \"anthropic\" in lower:\n",
    "        # ✅ Use the safe helper that joins all text blocks and adds a system prompt\n",
    "        content = utils.image_anthropic_call(model_name, prompt, media_type, b64)\n",
    "    else:\n",
    "        content = utils.image_openai_call(model_name, prompt, media_type, b64)\n",
    "\n",
    "    # --- Parse ONLY the first JSON line (feedback) ---\n",
    "    lines = content.strip().splitlines()\n",
    "    json_line = lines[0].strip() if lines else \"\"\n",
    "\n",
    "    try:\n",
    "        obj = json.loads(json_line)\n",
    "    except Exception as e:\n",
    "        # Fallback: try to capture the first {...} in all the content\n",
    "        m_json = re.search(r\"\\{.*?\\}\", content, flags=re.DOTALL)\n",
    "        if m_json:\n",
    "            try:\n",
    "                obj = json.loads(m_json.group(0))\n",
    "            except Exception as e2:\n",
    "                obj = {\"feedback\": f\"Failed to parse JSON: {e2}\", \"refined_code\": \"\"}\n",
    "        else:\n",
    "            obj = {\"feedback\": f\"Failed to find JSON: {e}\", \"refined_code\": \"\"}\n",
    "\n",
    "    # --- Extract refined code from <execute_python>...</execute_python> ---\n",
    "    m_code = re.search(r\"<execute_python>([\\s\\S]*?)</execute_python>\", content)\n",
    "    refined_code_body = m_code.group(1).strip() if m_code else \"\"\n",
    "    refined_code = utils.ensure_execute_python_tags(refined_code_body)\n",
    "\n",
    "    feedback = str(obj.get(\"feedback\", \"\")).strip()\n",
    "    return feedback, refined_code\n",
    "\n"
   ]
  },
  {
   "cell_type": "markdown",
   "id": "f453e402",
   "metadata": {},
   "source": [
    "#### 4. Generate and execute improved version - V2"
   ]
  },
  {
   "cell_type": "code",
   "execution_count": null,
   "id": "b2e570e2",
   "metadata": {},
   "outputs": [],
   "source": []
  }
 ],
 "metadata": {
  "kernelspec": {
   "display_name": "agentic-ai-hGiYqSMm-py3.11",
   "language": "python",
   "name": "python3"
  },
  "language_info": {
   "codemirror_mode": {
    "name": "ipython",
    "version": 3
   },
   "file_extension": ".py",
   "mimetype": "text/x-python",
   "name": "python",
   "nbconvert_exporter": "python",
   "pygments_lexer": "ipython3",
   "version": "3.11.5"
  }
 },
 "nbformat": 4,
 "nbformat_minor": 5
}
